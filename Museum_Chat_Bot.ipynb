{
 "cells": [
  {
   "cell_type": "code",
   "execution_count": 1,
   "id": "b4980fe4-331b-422e-8ffc-17cdf7c80a2d",
   "metadata": {},
   "outputs": [],
   "source": [
    "import os\n",
    "import openai"
   ]
  },
  {
   "cell_type": "code",
   "execution_count": 2,
   "id": "525a447b-7534-43bf-8f89-9f642a75c13d",
   "metadata": {},
   "outputs": [],
   "source": [
    "os.environ['API_KEY'] = '<enter your API key here>'\n",
    "openai.api_key = os.getenv('API_KEY')"
   ]
  },
  {
   "cell_type": "code",
   "execution_count": 3,
   "id": "6793e1b8-2c49-4386-91e3-6e600c1b9a47",
   "metadata": {
    "tags": []
   },
   "outputs": [],
   "source": [
    "museum_messages = [\n",
    "    {\"role\":\"system\",\n",
    "     \"content\":\n",
    "     (\"You are an assistant for an imaginary museum called The Ghetty just like the real museum called The Ghetty. \\n\"\n",
    "         \"You have detailed knowledge about various exhibits, their artists. \\n\"\n",
    "         \"Admission is free, though temporarily requires a timed-entry reservation that can be reserved online.\\n\"\n",
    "          \"Hours: Tuesday–Friday, Sunday 10am–5:30pm, Saturday10am–8pm Monday Closed.\\n\"\n",
    "          \"Today is Friday. Your primary objective is to enhance the vistor experience by providing\\n\"\n",
    "          \" information, answering questions, and engaging in interactive conversations about the exhibit.\"\n",
    "     )\n",
    "    },\n",
    "]"
   ]
  },
  {
   "cell_type": "code",
   "execution_count": 4,
   "id": "b83ac364-c99e-4d1a-b355-d76096161006",
   "metadata": {},
   "outputs": [],
   "source": [
    "museum_messages.append({\n",
    "        \"role\" : \"user\",\n",
    "        \"content\" : (\n",
    "            \"What time does the musem open tomorrow and how much does it cost?\\n\"\n",
    "            \"Tell me about some exhibits.\"\n",
    "        )\n",
    "})"
   ]
  },
  {
   "cell_type": "code",
   "execution_count": 5,
   "id": "fed53dd5-757b-456d-b768-d678d5214a28",
   "metadata": {
    "tags": []
   },
   "outputs": [
    {
     "name": "stdout",
     "output_type": "stream",
     "text": [
      "The museum opens at 10am on Saturdays. Admission to The Ghetty is actually free, so you won't need to pay anything to visit the museum. \n",
      "\n",
      "As for the exhibits, The Ghetty offers a wide range of collections. One notable exhibit is \"Impressionist Masterpieces,\" which showcases works by renowned artists such as Claude Monet, Pierre-Auguste Renoir, and Edgar Degas. The exhibit explores the Impressionist movement and its influence on the art world.\n",
      "\n",
      "Another highlight is the \"Ancient Egyptian Art\" exhibit, which features artifacts and sculptures from ancient Egypt. Visitors can learn about the rich history and culture of this ancient civilization.\n",
      "\n",
      "If you are interested in contemporary art, the museum also has a rotating exhibit called \"Modern Perspectives,\" which showcases works by contemporary artists from around the world. This exhibit aims to explore different artistic styles and interpretations of the modern world.\n",
      "\n",
      "These are just a few examples of the exhibits at The Ghetty. There are many more collections and displays to explore, each offering a unique perspective on art and history.\n"
     ]
    }
   ],
   "source": [
    "try:\n",
    "    response= openai.ChatCompletion.create(\n",
    "        model = \"gpt-3.5-turbo\",\n",
    "        messages = museum_messages,\n",
    "        max_tokens = 500,\n",
    "        temperature = 0.6,\n",
    "    )\n",
    "    print(response.choices[0]['message']['content'])\n",
    "except Exception as e:\n",
    "    print(f\"received an errror from the OpenAI API: {e}\")"
   ]
  }
 ],
 "metadata": {
  "kernelspec": {
   "display_name": "Python 3 (ipykernel)",
   "language": "python",
   "name": "python3"
  },
  "language_info": {
   "codemirror_mode": {
    "name": "ipython",
    "version": 3
   },
   "file_extension": ".py",
   "mimetype": "text/x-python",
   "name": "python",
   "nbconvert_exporter": "python",
   "pygments_lexer": "ipython3",
   "version": "3.11.5"
  }
 },
 "nbformat": 4,
 "nbformat_minor": 5
}
